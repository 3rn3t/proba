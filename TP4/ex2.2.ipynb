{
 "cells": [
  {
   "cell_type": "code",
   "execution_count": 22,
   "metadata": {},
   "outputs": [
    {
     "ename": "ValueError",
     "evalue": "math domain error",
     "output_type": "error",
     "traceback": [
      "\u001b[1;31m---------------------------------------------------------------------------\u001b[0m",
      "\u001b[1;31mValueError\u001b[0m                                Traceback (most recent call last)",
      "Cell \u001b[1;32mIn[22], line 17\u001b[0m\n\u001b[0;32m     15\u001b[0m \u001b[38;5;28;01mfor\u001b[39;00m i \u001b[38;5;129;01min\u001b[39;00m \u001b[38;5;28mrange\u001b[39m(\u001b[38;5;28mint\u001b[39m(n\u001b[38;5;241m/\u001b[39m\u001b[38;5;241m2\u001b[39m)):\n\u001b[0;32m     16\u001b[0m     y_empirique_1[i] \u001b[38;5;241m=\u001b[39m math\u001b[38;5;241m.\u001b[39msqrt(\u001b[38;5;241m8\u001b[39m\u001b[38;5;241m*\u001b[39my_empirique_1[i]) \u001b[38;5;66;03m#on utilise la bijection réciproque de X et on retombe dans [0,2]\u001b[39;00m\n\u001b[1;32m---> 17\u001b[0m     y_empirique_2[i] \u001b[38;5;241m=\u001b[39m \u001b[38;5;241m-\u001b[39m\u001b[38;5;241m1\u001b[39m\u001b[38;5;241m*\u001b[39m\u001b[43mmath\u001b[49m\u001b[38;5;241;43m.\u001b[39;49m\u001b[43msqrt\u001b[49m\u001b[43m(\u001b[49m\u001b[43m(\u001b[49m\u001b[38;5;241;43m8\u001b[39;49m\u001b[38;5;241;43m*\u001b[39;49m\u001b[43my_empirique_2\u001b[49m\u001b[43m[\u001b[49m\u001b[43mi\u001b[49m\u001b[43m]\u001b[49m\u001b[43m)\u001b[49m\u001b[38;5;241;43m-\u001b[39;49m\u001b[38;5;241;43m8\u001b[39;49m\u001b[43m)\u001b[49m\u001b[38;5;241m+\u001b[39m\u001b[38;5;241m4\u001b[39m \u001b[38;5;66;03m#on utilise la bijection réciproque de X et on retombe dans [2,4]\u001b[39;00m\n\u001b[0;32m     18\u001b[0m y_empirique \u001b[38;5;241m=\u001b[39m np\u001b[38;5;241m.\u001b[39mconcatenate((y_empirique_1,y_empirique_2), axis\u001b[38;5;241m=\u001b[39m \u001b[38;5;241m0\u001b[39m)     \n\u001b[0;32m     21\u001b[0m \u001b[38;5;66;03m#Partie théorique\u001b[39;00m\n",
      "\u001b[1;31mValueError\u001b[0m: math domain error"
     ]
    }
   ],
   "source": [
    "import numpy as np\n",
    "import matplotlib.pyplot as plt\n",
    "import math\n",
    "\n",
    "\n",
    "a = 0\n",
    "b = 4\n",
    "n = 5000\n",
    "\n",
    "\n",
    "#Partie Empirique\n",
    "y_empirique_1 = 0.5*np.random.rand(n) #on génère y1\n",
    "y_empirique_2 = 1-(0.5*np.random.rand(n)) #on génère y2\n",
    "\n",
    "for i in range(int(n/2)):\n",
    "    y_empirique_1[i] = math.sqrt(8*y_empirique_1[i]) #on utilise la bijection réciproque de X et on retombe dans [0,2]\n",
    "    y_empirique_2[i] = -math.sqrt((8*y_empirique_2[i])-8)+4 #on utilise la bijection réciproque de X et on retombe dans [2,4]\n",
    "y_empirique = np.concatenate((y_empirique_1,y_empirique_2), axis= 0)     \n",
    "\n",
    "\n",
    "#Partie théorique\n",
    "x_théo_1 = np.linspace(a,int(b/2),n) # on génère nos x\n",
    "x_théo_2 = np.linspace(int(b/2),b,n) # on génère nos x\n",
    "x_théo = np.concatenate((x_théo_1,x_théo_2), axis = 0)\n",
    "y_théo = np.zeros((2*n), dtype=float)\n",
    "y_théo_1 = np.zeros((n), dtype=float)\n",
    "y_théo_2 = np.zeros((n), dtype=float)\n",
    "esp_théo = round((5-4*math.log(6))/math.log(6),2) #espérance théorique pas bon\n",
    "ecart_théo = round(math.sqrt((5/math.log(6))*(3.5-(5/math.log(6)))),2) #ecart-type théorique pas bon\n",
    "for i in range(n):\n",
    "    y_théo_1[i] = x_théo_1[i]/4 # on calcule les y\n",
    "    y_théo_2[i] = (4-x_théo_2[i])/4 # on calcule les y\n",
    "y_théo = np.concatenate((y_théo_1,y_théo_2), axis = 0)\n",
    "\n",
    "\n",
    "\n",
    "plt.figure() #affichage de l'histogramme\n",
    "hX, binsX, _ = plt.hist(y_empirique,bins=50,rwidth=0.8,label=\"Empirique\",color=\"g\",density=True)\n",
    "plt.plot(x_théo,y_théo,label=\"Théorique\",color='b')\n",
    "plt.ylabel(\"f(x)\")\n",
    "plt.xlabel(\"x (valeurs de X)\")\n",
    "plt.legend(loc=\"upper right\")\n",
    "plt.title(\"Simulation de la loi (ln(6)(x+4))^-1\")\n",
    "plt.text(2, 0.5, s = 'Expériences : '+str(n))\n",
    "plt.text(2, 0.45, s = 'E(X) emp. = '+str(round(np.mean(y_empirique),2)))\n",
    "plt.text(2, 0.4, s = 'E(X) théo. = '+str(round(esp_théo,2)))\n",
    "plt.text(2, 0.35, s = ' σ(X) emp. = '+str(round(np.std(y_empirique),2)))  \n",
    "plt.text(2, 0.3, s = ' σ(X) théo. = '+str(ecart_théo))\n",
    "plt.show()\n",
    "\n",
    "\n",
    "\n"
   ]
  }
 ],
 "metadata": {
  "kernelspec": {
   "display_name": "env_msi",
   "language": "python",
   "name": "python3"
  },
  "language_info": {
   "codemirror_mode": {
    "name": "ipython",
    "version": 3
   },
   "file_extension": ".py",
   "mimetype": "text/x-python",
   "name": "python",
   "nbconvert_exporter": "python",
   "pygments_lexer": "ipython3",
   "version": "3.11.9"
  }
 },
 "nbformat": 4,
 "nbformat_minor": 2
}
